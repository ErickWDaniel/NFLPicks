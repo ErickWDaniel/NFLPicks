{
 "cells": [
  {
   "cell_type": "code",
   "execution_count": 1,
   "metadata": {},
   "outputs": [],
   "source": [
    "from collections import defaultdict\n",
    "from pathlib import Path\n",
    "\n",
    "from bs4 import BeautifulSoup\n",
    "from requests import Session\n",
    "import pandas as pd"
   ]
  },
  {
   "cell_type": "code",
   "execution_count": 2,
   "metadata": {},
   "outputs": [],
   "source": [
    "results = 'results'\n",
    "fixtures = 'fixtures'"
   ]
  },
  {
   "cell_type": "code",
   "execution_count": 3,
   "metadata": {},
   "outputs": [],
   "source": [
    "url = 'https://www.bbc.com/sport/american-football/'"
   ]
  },
  {
   "cell_type": "code",
   "execution_count": 4,
   "metadata": {},
   "outputs": [],
   "source": [
    "session = Session()\n",
    "\n",
    "headers = headers = {'User-Agent': ('Mozilla/5.0 (Macintosh; Intel Mac OS X 10_10_1) '\n",
    "                          'AppleWebKit/537.36 (KHTML, like Gecko) '\n",
    "                          'Chrome/39.0.2171.95 Safari/537.36'),\n",
    "                    'Content-Type': 'application/json'}\n",
    "\n",
    "session.headers.update(headers)"
   ]
  },
  {
   "cell_type": "code",
   "execution_count": 5,
   "metadata": {},
   "outputs": [],
   "source": [
    "fixtures_url = f'{url}{fixtures}'\n",
    "\n",
    "r = session.get(fixtures_url)\n",
    "\n",
    "fixtures_soup = BeautifulSoup(r.content,'html.parser')\n",
    "\n",
    "games_soup = fixtures_soup.find('div', {'id':'sp-c-filter-contents'})\n",
    "\n",
    "games = games_soup.find_all('span',{'class':'qa-fixture-block'})"
   ]
  },
  {
   "cell_type": "code",
   "execution_count": 6,
   "metadata": {},
   "outputs": [],
   "source": [
    "data = defaultdict(list)\n",
    "for game in games:\n",
    "    data['game_date'].append(game.h3.get_text())\n",
    "    data['game_round'].append(game.h5.get_text())\n",
    "    data['games'].append([{'home':home['title'],'away':away['title']} for home, away in [g.find_all('abbr') for g in game.find_all('li')]])\n",
    "    data['time'].append([{'time':time.get_text()} for time in game.find_all('span', class_='sp-c-fixture__number--time')])\n",
    "    data['venue'].append([{'venue':venue.get_text()} for venue in game.find_all('span', class_='sp-c-fixture__venue')])"
   ]
  },
  {
   "cell_type": "code",
   "execution_count": 7,
   "metadata": {},
   "outputs": [],
   "source": [
    "df = pd.DataFrame(data)"
   ]
  },
  {
   "cell_type": "code",
   "execution_count": 8,
   "metadata": {},
   "outputs": [
    {
     "data": {
      "text/html": [
       "<div>\n",
       "<style scoped>\n",
       "    .dataframe tbody tr th:only-of-type {\n",
       "        vertical-align: middle;\n",
       "    }\n",
       "\n",
       "    .dataframe tbody tr th {\n",
       "        vertical-align: top;\n",
       "    }\n",
       "\n",
       "    .dataframe thead th {\n",
       "        text-align: right;\n",
       "    }\n",
       "</style>\n",
       "<table border=\"1\" class=\"dataframe\">\n",
       "  <thead>\n",
       "    <tr style=\"text-align: right;\">\n",
       "      <th></th>\n",
       "      <th>game_date</th>\n",
       "      <th>game_round</th>\n",
       "      <th>games</th>\n",
       "      <th>time</th>\n",
       "      <th>venue</th>\n",
       "    </tr>\n",
       "  </thead>\n",
       "  <tbody>\n",
       "    <tr>\n",
       "      <th>0</th>\n",
       "      <td>Friday 6th September 2019</td>\n",
       "      <td>Round 1</td>\n",
       "      <td>[{'home': 'Chicago Bears', 'away': 'Green Bay ...</td>\n",
       "      <td>[{'time': '00:20'}]</td>\n",
       "      <td>[{'venue': 'Venue: Soldier Field'}]</td>\n",
       "    </tr>\n",
       "    <tr>\n",
       "      <th>1</th>\n",
       "      <td>Sunday 8th September 2019</td>\n",
       "      <td>Round 1</td>\n",
       "      <td>[{'home': 'Carolina Panthers', 'away': 'Los An...</td>\n",
       "      <td>[{'time': '17:00'}, {'time': '17:00'}, {'time'...</td>\n",
       "      <td>[{'venue': 'Venue: Bank of America Stadium'}, ...</td>\n",
       "    </tr>\n",
       "    <tr>\n",
       "      <th>2</th>\n",
       "      <td>Monday 9th September 2019</td>\n",
       "      <td>Round 1</td>\n",
       "      <td>[{'home': 'New England Patriots', 'away': 'Pit...</td>\n",
       "      <td>[{'time': '00:20'}]</td>\n",
       "      <td>[{'venue': 'Venue: Gillette Stadium'}]</td>\n",
       "    </tr>\n",
       "    <tr>\n",
       "      <th>3</th>\n",
       "      <td>Tuesday 10th September 2019</td>\n",
       "      <td>Round 1</td>\n",
       "      <td>[{'home': 'New Orleans Saints', 'away': 'Houst...</td>\n",
       "      <td>[{'time': '23:10'}, {'time': '02:20'}]</td>\n",
       "      <td>[{'venue': 'Venue: Mercedes-Benz Superdome'}, ...</td>\n",
       "    </tr>\n",
       "    <tr>\n",
       "      <th>4</th>\n",
       "      <td>Friday 13th September 2019</td>\n",
       "      <td>Round 2</td>\n",
       "      <td>[{'home': 'Carolina Panthers', 'away': 'Tampa ...</td>\n",
       "      <td>[{'time': '00:20'}]</td>\n",
       "      <td>[{'venue': 'Venue: Bank of America Stadium'}]</td>\n",
       "    </tr>\n",
       "  </tbody>\n",
       "</table>\n",
       "</div>"
      ],
      "text/plain": [
       "                     game_date game_round  \\\n",
       "0    Friday 6th September 2019    Round 1   \n",
       "1    Sunday 8th September 2019    Round 1   \n",
       "2    Monday 9th September 2019    Round 1   \n",
       "3  Tuesday 10th September 2019    Round 1   \n",
       "4   Friday 13th September 2019    Round 2   \n",
       "\n",
       "                                               games  \\\n",
       "0  [{'home': 'Chicago Bears', 'away': 'Green Bay ...   \n",
       "1  [{'home': 'Carolina Panthers', 'away': 'Los An...   \n",
       "2  [{'home': 'New England Patriots', 'away': 'Pit...   \n",
       "3  [{'home': 'New Orleans Saints', 'away': 'Houst...   \n",
       "4  [{'home': 'Carolina Panthers', 'away': 'Tampa ...   \n",
       "\n",
       "                                                time  \\\n",
       "0                                [{'time': '00:20'}]   \n",
       "1  [{'time': '17:00'}, {'time': '17:00'}, {'time'...   \n",
       "2                                [{'time': '00:20'}]   \n",
       "3             [{'time': '23:10'}, {'time': '02:20'}]   \n",
       "4                                [{'time': '00:20'}]   \n",
       "\n",
       "                                               venue  \n",
       "0                [{'venue': 'Venue: Soldier Field'}]  \n",
       "1  [{'venue': 'Venue: Bank of America Stadium'}, ...  \n",
       "2             [{'venue': 'Venue: Gillette Stadium'}]  \n",
       "3  [{'venue': 'Venue: Mercedes-Benz Superdome'}, ...  \n",
       "4      [{'venue': 'Venue: Bank of America Stadium'}]  "
      ]
     },
     "execution_count": 8,
     "metadata": {},
     "output_type": "execute_result"
    }
   ],
   "source": [
    "df.head()"
   ]
  },
  {
   "cell_type": "code",
   "execution_count": 9,
   "metadata": {},
   "outputs": [],
   "source": [
    "games = df.explode('games')\n",
    "time = df.explode('time')\n",
    "venue = df.explode('venue')"
   ]
  },
  {
   "cell_type": "code",
   "execution_count": 10,
   "metadata": {},
   "outputs": [],
   "source": [
    "games.drop(columns=['time','venue'], inplace=True)\n",
    "time.drop(columns=['games','venue'], inplace=True)\n",
    "venue.drop(columns=['time','games'], inplace=True)"
   ]
  },
  {
   "cell_type": "code",
   "execution_count": 11,
   "metadata": {},
   "outputs": [],
   "source": [
    "games['time'] = time['time']\n",
    "games['venue'] = venue['venue']"
   ]
  },
  {
   "cell_type": "code",
   "execution_count": 12,
   "metadata": {},
   "outputs": [],
   "source": [
    "df = games"
   ]
  },
  {
   "cell_type": "code",
   "execution_count": 36,
   "metadata": {},
   "outputs": [
    {
     "data": {
      "text/html": [
       "<div>\n",
       "<style scoped>\n",
       "    .dataframe tbody tr th:only-of-type {\n",
       "        vertical-align: middle;\n",
       "    }\n",
       "\n",
       "    .dataframe tbody tr th {\n",
       "        vertical-align: top;\n",
       "    }\n",
       "\n",
       "    .dataframe thead th {\n",
       "        text-align: right;\n",
       "    }\n",
       "</style>\n",
       "<table border=\"1\" class=\"dataframe\">\n",
       "  <thead>\n",
       "    <tr style=\"text-align: right;\">\n",
       "      <th></th>\n",
       "      <th>game_date</th>\n",
       "      <th>game_round</th>\n",
       "      <th>games</th>\n",
       "      <th>time</th>\n",
       "      <th>venue</th>\n",
       "    </tr>\n",
       "  </thead>\n",
       "  <tbody>\n",
       "    <tr>\n",
       "      <th>0</th>\n",
       "      <td>Friday 6th September 2019</td>\n",
       "      <td>Round 1</td>\n",
       "      <td>{'home': 'Chicago Bears', 'away': 'Green Bay P...</td>\n",
       "      <td>{'time': '00:20'}</td>\n",
       "      <td>{'venue': 'Venue: Soldier Field'}</td>\n",
       "    </tr>\n",
       "    <tr>\n",
       "      <th>1</th>\n",
       "      <td>Sunday 8th September 2019</td>\n",
       "      <td>Round 1</td>\n",
       "      <td>{'home': 'Carolina Panthers', 'away': 'Los Ang...</td>\n",
       "      <td>{'time': '17:00'}</td>\n",
       "      <td>{'venue': 'Venue: Bank of America Stadium'}</td>\n",
       "    </tr>\n",
       "    <tr>\n",
       "      <th>1</th>\n",
       "      <td>Sunday 8th September 2019</td>\n",
       "      <td>Round 1</td>\n",
       "      <td>{'home': 'New York Jets', 'away': 'Buffalo Bil...</td>\n",
       "      <td>{'time': '17:00'}</td>\n",
       "      <td>{'venue': 'Venue: MetLife Stadium'}</td>\n",
       "    </tr>\n",
       "    <tr>\n",
       "      <th>1</th>\n",
       "      <td>Sunday 8th September 2019</td>\n",
       "      <td>Round 1</td>\n",
       "      <td>{'home': 'Minnesota Vikings', 'away': 'Atlanta...</td>\n",
       "      <td>{'time': '17:00'}</td>\n",
       "      <td>{'venue': 'Venue: US Bank Stadium'}</td>\n",
       "    </tr>\n",
       "    <tr>\n",
       "      <th>1</th>\n",
       "      <td>Sunday 8th September 2019</td>\n",
       "      <td>Round 1</td>\n",
       "      <td>{'home': 'Miami Dolphins', 'away': 'Baltimore ...</td>\n",
       "      <td>{'time': '17:00'}</td>\n",
       "      <td>{'venue': 'Venue: Hard Rock Stadium'}</td>\n",
       "    </tr>\n",
       "  </tbody>\n",
       "</table>\n",
       "</div>"
      ],
      "text/plain": [
       "                   game_date game_round  \\\n",
       "0  Friday 6th September 2019    Round 1   \n",
       "1  Sunday 8th September 2019    Round 1   \n",
       "1  Sunday 8th September 2019    Round 1   \n",
       "1  Sunday 8th September 2019    Round 1   \n",
       "1  Sunday 8th September 2019    Round 1   \n",
       "\n",
       "                                               games               time  \\\n",
       "0  {'home': 'Chicago Bears', 'away': 'Green Bay P...  {'time': '00:20'}   \n",
       "1  {'home': 'Carolina Panthers', 'away': 'Los Ang...  {'time': '17:00'}   \n",
       "1  {'home': 'New York Jets', 'away': 'Buffalo Bil...  {'time': '17:00'}   \n",
       "1  {'home': 'Minnesota Vikings', 'away': 'Atlanta...  {'time': '17:00'}   \n",
       "1  {'home': 'Miami Dolphins', 'away': 'Baltimore ...  {'time': '17:00'}   \n",
       "\n",
       "                                         venue  \n",
       "0            {'venue': 'Venue: Soldier Field'}  \n",
       "1  {'venue': 'Venue: Bank of America Stadium'}  \n",
       "1          {'venue': 'Venue: MetLife Stadium'}  \n",
       "1          {'venue': 'Venue: US Bank Stadium'}  \n",
       "1        {'venue': 'Venue: Hard Rock Stadium'}  "
      ]
     },
     "execution_count": 36,
     "metadata": {},
     "output_type": "execute_result"
    }
   ],
   "source": [
    "df.head()"
   ]
  },
  {
   "cell_type": "code",
   "execution_count": 50,
   "metadata": {},
   "outputs": [],
   "source": [
    "df['time'] = df['time'].apply(lambda x: x['time'])"
   ]
  },
  {
   "cell_type": "code",
   "execution_count": 75,
   "metadata": {},
   "outputs": [],
   "source": [
    "df['game_dt'] = df.apply(lambda x: f'{x[\"game_date\"]} {x[\"time\"]}', axis=1)"
   ]
  },
  {
   "cell_type": "code",
   "execution_count": 76,
   "metadata": {},
   "outputs": [
    {
     "data": {
      "text/html": [
       "<div>\n",
       "<style scoped>\n",
       "    .dataframe tbody tr th:only-of-type {\n",
       "        vertical-align: middle;\n",
       "    }\n",
       "\n",
       "    .dataframe tbody tr th {\n",
       "        vertical-align: top;\n",
       "    }\n",
       "\n",
       "    .dataframe thead th {\n",
       "        text-align: right;\n",
       "    }\n",
       "</style>\n",
       "<table border=\"1\" class=\"dataframe\">\n",
       "  <thead>\n",
       "    <tr style=\"text-align: right;\">\n",
       "      <th></th>\n",
       "      <th>game_date</th>\n",
       "      <th>game_round</th>\n",
       "      <th>games</th>\n",
       "      <th>time</th>\n",
       "      <th>venue</th>\n",
       "      <th>game_dt</th>\n",
       "    </tr>\n",
       "  </thead>\n",
       "  <tbody>\n",
       "    <tr>\n",
       "      <th>0</th>\n",
       "      <td>Friday 6th September 2019</td>\n",
       "      <td>Round 1</td>\n",
       "      <td>{'home': 'Chicago Bears', 'away': 'Green Bay P...</td>\n",
       "      <td>00:20</td>\n",
       "      <td>{'venue': 'Venue: Soldier Field'}</td>\n",
       "      <td>Friday 6th September 2019 00:20</td>\n",
       "    </tr>\n",
       "    <tr>\n",
       "      <th>1</th>\n",
       "      <td>Sunday 8th September 2019</td>\n",
       "      <td>Round 1</td>\n",
       "      <td>{'home': 'Carolina Panthers', 'away': 'Los Ang...</td>\n",
       "      <td>17:00</td>\n",
       "      <td>{'venue': 'Venue: Bank of America Stadium'}</td>\n",
       "      <td>Sunday 8th September 2019 17:00</td>\n",
       "    </tr>\n",
       "    <tr>\n",
       "      <th>2</th>\n",
       "      <td>Sunday 8th September 2019</td>\n",
       "      <td>Round 1</td>\n",
       "      <td>{'home': 'New York Jets', 'away': 'Buffalo Bil...</td>\n",
       "      <td>17:00</td>\n",
       "      <td>{'venue': 'Venue: MetLife Stadium'}</td>\n",
       "      <td>Sunday 8th September 2019 17:00</td>\n",
       "    </tr>\n",
       "    <tr>\n",
       "      <th>3</th>\n",
       "      <td>Sunday 8th September 2019</td>\n",
       "      <td>Round 1</td>\n",
       "      <td>{'home': 'Minnesota Vikings', 'away': 'Atlanta...</td>\n",
       "      <td>17:00</td>\n",
       "      <td>{'venue': 'Venue: US Bank Stadium'}</td>\n",
       "      <td>Sunday 8th September 2019 17:00</td>\n",
       "    </tr>\n",
       "    <tr>\n",
       "      <th>4</th>\n",
       "      <td>Sunday 8th September 2019</td>\n",
       "      <td>Round 1</td>\n",
       "      <td>{'home': 'Miami Dolphins', 'away': 'Baltimore ...</td>\n",
       "      <td>17:00</td>\n",
       "      <td>{'venue': 'Venue: Hard Rock Stadium'}</td>\n",
       "      <td>Sunday 8th September 2019 17:00</td>\n",
       "    </tr>\n",
       "  </tbody>\n",
       "</table>\n",
       "</div>"
      ],
      "text/plain": [
       "                   game_date game_round  \\\n",
       "0  Friday 6th September 2019    Round 1   \n",
       "1  Sunday 8th September 2019    Round 1   \n",
       "2  Sunday 8th September 2019    Round 1   \n",
       "3  Sunday 8th September 2019    Round 1   \n",
       "4  Sunday 8th September 2019    Round 1   \n",
       "\n",
       "                                               games   time  \\\n",
       "0  {'home': 'Chicago Bears', 'away': 'Green Bay P...  00:20   \n",
       "1  {'home': 'Carolina Panthers', 'away': 'Los Ang...  17:00   \n",
       "2  {'home': 'New York Jets', 'away': 'Buffalo Bil...  17:00   \n",
       "3  {'home': 'Minnesota Vikings', 'away': 'Atlanta...  17:00   \n",
       "4  {'home': 'Miami Dolphins', 'away': 'Baltimore ...  17:00   \n",
       "\n",
       "                                         venue  \\\n",
       "0            {'venue': 'Venue: Soldier Field'}   \n",
       "1  {'venue': 'Venue: Bank of America Stadium'}   \n",
       "2          {'venue': 'Venue: MetLife Stadium'}   \n",
       "3          {'venue': 'Venue: US Bank Stadium'}   \n",
       "4        {'venue': 'Venue: Hard Rock Stadium'}   \n",
       "\n",
       "                           game_dt  \n",
       "0  Friday 6th September 2019 00:20  \n",
       "1  Sunday 8th September 2019 17:00  \n",
       "2  Sunday 8th September 2019 17:00  \n",
       "3  Sunday 8th September 2019 17:00  \n",
       "4  Sunday 8th September 2019 17:00  "
      ]
     },
     "execution_count": 76,
     "metadata": {},
     "output_type": "execute_result"
    }
   ],
   "source": [
    "df.head()"
   ]
  },
  {
   "cell_type": "code",
   "execution_count": 77,
   "metadata": {},
   "outputs": [],
   "source": [
    " df.to_json('data/fixtures.json', orient='records')"
   ]
  },
  {
   "cell_type": "code",
   "execution_count": 78,
   "metadata": {},
   "outputs": [],
   "source": [
    "dt = pd.read_json('data/fixtures.json', orient='records')"
   ]
  },
  {
   "cell_type": "code",
   "execution_count": 79,
   "metadata": {},
   "outputs": [
    {
     "data": {
      "text/plain": [
       "game_date     object\n",
       "game_round    object\n",
       "games         object\n",
       "time          object\n",
       "venue         object\n",
       "game_dt       object\n",
       "dtype: object"
      ]
     },
     "execution_count": 79,
     "metadata": {},
     "output_type": "execute_result"
    }
   ],
   "source": [
    "dt.dtypes"
   ]
  },
  {
   "cell_type": "code",
   "execution_count": 80,
   "metadata": {},
   "outputs": [
    {
     "data": {
      "text/html": [
       "<div>\n",
       "<style scoped>\n",
       "    .dataframe tbody tr th:only-of-type {\n",
       "        vertical-align: middle;\n",
       "    }\n",
       "\n",
       "    .dataframe tbody tr th {\n",
       "        vertical-align: top;\n",
       "    }\n",
       "\n",
       "    .dataframe thead th {\n",
       "        text-align: right;\n",
       "    }\n",
       "</style>\n",
       "<table border=\"1\" class=\"dataframe\">\n",
       "  <thead>\n",
       "    <tr style=\"text-align: right;\">\n",
       "      <th></th>\n",
       "      <th>game_date</th>\n",
       "      <th>game_round</th>\n",
       "      <th>games</th>\n",
       "      <th>time</th>\n",
       "      <th>venue</th>\n",
       "      <th>game_dt</th>\n",
       "    </tr>\n",
       "  </thead>\n",
       "  <tbody>\n",
       "    <tr>\n",
       "      <th>0</th>\n",
       "      <td>Friday 6th September 2019</td>\n",
       "      <td>Round 1</td>\n",
       "      <td>{'home': 'Chicago Bears', 'away': 'Green Bay P...</td>\n",
       "      <td>00:20</td>\n",
       "      <td>{'venue': 'Venue: Soldier Field'}</td>\n",
       "      <td>Friday 6th September 2019 00:20</td>\n",
       "    </tr>\n",
       "    <tr>\n",
       "      <th>1</th>\n",
       "      <td>Sunday 8th September 2019</td>\n",
       "      <td>Round 1</td>\n",
       "      <td>{'home': 'Carolina Panthers', 'away': 'Los Ang...</td>\n",
       "      <td>17:00</td>\n",
       "      <td>{'venue': 'Venue: Bank of America Stadium'}</td>\n",
       "      <td>Sunday 8th September 2019 17:00</td>\n",
       "    </tr>\n",
       "    <tr>\n",
       "      <th>2</th>\n",
       "      <td>Sunday 8th September 2019</td>\n",
       "      <td>Round 1</td>\n",
       "      <td>{'home': 'New York Jets', 'away': 'Buffalo Bil...</td>\n",
       "      <td>17:00</td>\n",
       "      <td>{'venue': 'Venue: MetLife Stadium'}</td>\n",
       "      <td>Sunday 8th September 2019 17:00</td>\n",
       "    </tr>\n",
       "    <tr>\n",
       "      <th>3</th>\n",
       "      <td>Sunday 8th September 2019</td>\n",
       "      <td>Round 1</td>\n",
       "      <td>{'home': 'Minnesota Vikings', 'away': 'Atlanta...</td>\n",
       "      <td>17:00</td>\n",
       "      <td>{'venue': 'Venue: US Bank Stadium'}</td>\n",
       "      <td>Sunday 8th September 2019 17:00</td>\n",
       "    </tr>\n",
       "    <tr>\n",
       "      <th>4</th>\n",
       "      <td>Sunday 8th September 2019</td>\n",
       "      <td>Round 1</td>\n",
       "      <td>{'home': 'Miami Dolphins', 'away': 'Baltimore ...</td>\n",
       "      <td>17:00</td>\n",
       "      <td>{'venue': 'Venue: Hard Rock Stadium'}</td>\n",
       "      <td>Sunday 8th September 2019 17:00</td>\n",
       "    </tr>\n",
       "  </tbody>\n",
       "</table>\n",
       "</div>"
      ],
      "text/plain": [
       "                   game_date game_round  \\\n",
       "0  Friday 6th September 2019    Round 1   \n",
       "1  Sunday 8th September 2019    Round 1   \n",
       "2  Sunday 8th September 2019    Round 1   \n",
       "3  Sunday 8th September 2019    Round 1   \n",
       "4  Sunday 8th September 2019    Round 1   \n",
       "\n",
       "                                               games   time  \\\n",
       "0  {'home': 'Chicago Bears', 'away': 'Green Bay P...  00:20   \n",
       "1  {'home': 'Carolina Panthers', 'away': 'Los Ang...  17:00   \n",
       "2  {'home': 'New York Jets', 'away': 'Buffalo Bil...  17:00   \n",
       "3  {'home': 'Minnesota Vikings', 'away': 'Atlanta...  17:00   \n",
       "4  {'home': 'Miami Dolphins', 'away': 'Baltimore ...  17:00   \n",
       "\n",
       "                                         venue  \\\n",
       "0            {'venue': 'Venue: Soldier Field'}   \n",
       "1  {'venue': 'Venue: Bank of America Stadium'}   \n",
       "2          {'venue': 'Venue: MetLife Stadium'}   \n",
       "3          {'venue': 'Venue: US Bank Stadium'}   \n",
       "4        {'venue': 'Venue: Hard Rock Stadium'}   \n",
       "\n",
       "                           game_dt  \n",
       "0  Friday 6th September 2019 00:20  \n",
       "1  Sunday 8th September 2019 17:00  \n",
       "2  Sunday 8th September 2019 17:00  \n",
       "3  Sunday 8th September 2019 17:00  \n",
       "4  Sunday 8th September 2019 17:00  "
      ]
     },
     "execution_count": 80,
     "metadata": {},
     "output_type": "execute_result"
    }
   ],
   "source": [
    "dt.head()"
   ]
  },
  {
   "cell_type": "code",
   "execution_count": 81,
   "metadata": {},
   "outputs": [
    {
     "data": {
      "text/plain": [
       "0     2019-09-06 00:20:00\n",
       "1     2019-09-08 17:00:00\n",
       "2     2019-09-08 17:00:00\n",
       "3     2019-09-08 17:00:00\n",
       "4     2019-09-08 17:00:00\n",
       "              ...        \n",
       "251   2019-12-29 18:00:00\n",
       "252   2019-12-29 18:00:00\n",
       "253   2019-12-29 21:25:00\n",
       "254   2019-12-29 21:25:00\n",
       "255   2019-12-29 21:25:00\n",
       "Name: game_dt, Length: 256, dtype: datetime64[ns]"
      ]
     },
     "execution_count": 81,
     "metadata": {},
     "output_type": "execute_result"
    }
   ],
   "source": [
    "dt['game_dt'].apply(pd.to_datetime)"
   ]
  },
  {
   "cell_type": "code",
   "execution_count": null,
   "metadata": {},
   "outputs": [],
   "source": []
  },
  {
   "cell_type": "code",
   "execution_count": null,
   "metadata": {},
   "outputs": [],
   "source": [
    "# Logos\n",
    "name of the team.lower().replace(' ','-')\n",
    "team =los-angeles.rams\n",
    "# f'http://loodibee.com/wp-content/uploads/nfl-{team}-team-logo-2-300x300.png'"
   ]
  },
  {
   "cell_type": "code",
   "execution_count": 11,
   "metadata": {},
   "outputs": [],
   "source": [
    "logos_url = 'http://loodibee.com/nfl/'"
   ]
  },
  {
   "cell_type": "code",
   "execution_count": 9,
   "metadata": {},
   "outputs": [],
   "source": [
    "folder = './static/logos/'\n",
    "Path(folder).mkdir(parents=True, exist_ok=True)"
   ]
  },
  {
   "cell_type": "code",
   "execution_count": 12,
   "metadata": {},
   "outputs": [],
   "source": [
    "s = session.get(logos_url)"
   ]
  },
  {
   "cell_type": "code",
   "execution_count": 13,
   "metadata": {},
   "outputs": [],
   "source": [
    "logos_soup = BeautifulSoup(s.content,'html.parser').find_all('figure')"
   ]
  },
  {
   "cell_type": "code",
   "execution_count": 14,
   "metadata": {},
   "outputs": [],
   "source": [
    "team_name_logo = [(logo.a['href'][:-1],logo.noscript.img['src']) for logo in logos_soup]\n",
    "team_name_logo = team_name_logo[:-3]"
   ]
  },
  {
   "cell_type": "code",
   "execution_count": 15,
   "metadata": {},
   "outputs": [
    {
     "name": "stdout",
     "output_type": "stream",
     "text": [
      "Success Team: Arizona Cardinals\n",
      "Success Team: Atlanta Falcons\n",
      "Success Team: Baltimore Ravens\n",
      "Success Team: Buffalo Bills\n",
      "Success Team: Carolina Panthers\n",
      "Success Team: Chicago Bears\n",
      "Success Team: Cincinnati Bengals\n",
      "Success Team: Cleveland Browns\n",
      "Success Team: Dallas Cowboys\n",
      "Success Team: Denver Broncos\n",
      "Success Team: Detroit Lions\n",
      "Success Team: Green Bay Packers\n",
      "Success Team: Houston Texans\n",
      "Success Team: Indianapolis Colts\n",
      "Success Team: Jacksonville Jaguars\n",
      "Success Team: Kansas City Chiefs\n",
      "Success Team: Los Angeles Chargers\n",
      "Success Team: Los Angeles Rams\n",
      "Success Team: Miami Dolphins\n",
      "Success Team: Minnesota Vikings\n",
      "Success Team: New England Patriots\n",
      "Success Team: New Orleans Saints\n",
      "Success Team: New York Giants\n",
      "Success Team: New York Jets\n",
      "Success Team: Oakland Raiders\n",
      "Success Team: Philadelphia Eagles\n",
      "Success Team: Pittsburgh Steelers\n",
      "Success Team: San Francisco 49Ers\n",
      "Success Team: Seattle Seahawks\n",
      "Success Team: Tampa Bay Buccaneers\n",
      "Success Team: Tennessee Titans\n",
      "Success Team: Washington Redskins\n"
     ]
    }
   ],
   "source": [
    "for team, image_url in team_name_logo:\n",
    "    response =session.get(str(image_url), stream=True)\n",
    "    if response.ok:\n",
    "        print(f'Success Team: {team.replace(\"-\",\" \").title()}')\n",
    "        with open(f'{folder}{team}.png', 'wb') as f:\n",
    "            f.write(response.content)\n",
    "    else:\n",
    "        print(f'Failed Team: {team.replace(\"-\",\" \").title()}')"
   ]
  },
  {
   "cell_type": "code",
   "execution_count": null,
   "metadata": {},
   "outputs": [],
   "source": []
  }
 ],
 "metadata": {
  "kernelspec": {
   "display_name": "Talks",
   "language": "python",
   "name": "talks"
  },
  "language_info": {
   "codemirror_mode": {
    "name": "ipython",
    "version": 3
   },
   "file_extension": ".py",
   "mimetype": "text/x-python",
   "name": "python",
   "nbconvert_exporter": "python",
   "pygments_lexer": "ipython3",
   "version": "3.7.3"
  }
 },
 "nbformat": 4,
 "nbformat_minor": 4
}
